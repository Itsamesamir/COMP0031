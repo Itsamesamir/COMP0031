{
 "cells": [
  {
   "cell_type": "code",
   "execution_count": 2,
   "metadata": {},
   "outputs": [
    {
     "name": "stdout",
     "output_type": "stream",
     "text": [
      "[]\n"
     ]
    }
   ],
   "source": [
    "import numpy as np\n",
    "import pandas as pd\n",
    "import matplotlib.pyplot as plt\n",
    "pd.set_option('display.max_rows', 200)\n",
    "pd.set_option('display.max_colwidth', 200)\n",
    "df = pd.read_csv(\"./Data/combined2.csv\")\n",
    "questions_id = [58,60,62,70,72,74,95,98,99,100]\n",
    "normalization_mapping = {\n",
    "    '-1': 'No response',  # Treating '-1' as \"no response\"\n",
    "    '1': 'Yes(1)',\n",
    "    '0': 'No(0)'\n",
    "}\n",
    "idArr = []\n",
    "for id in questions_id:\n",
    "    unique_ids = df[df['QuestionID'] == id]['UserID'].unique().tolist()\n",
    "    idArr.append(unique_ids)\n",
    "#print(idArr)\n",
    "\n",
    "unique_answers = df[df['QuestionID'] == 117]['AnswerText'].unique().tolist()\n",
    "\n",
    "matches = []\n",
    "for arr in idArr:\n",
    "    for member in arr:\n",
    "        if member in unique_answers:\n",
    "            matches.append(member)\n",
    "            break\n",
    "print(matches)\n"
   ]
  }
 ],
 "metadata": {
  "kernelspec": {
   "display_name": "Python 3",
   "language": "python",
   "name": "python3"
  },
  "language_info": {
   "codemirror_mode": {
    "name": "ipython",
    "version": 3
   },
   "file_extension": ".py",
   "mimetype": "text/x-python",
   "name": "python",
   "nbconvert_exporter": "python",
   "pygments_lexer": "ipython3",
   "version": "3.10.8"
  }
 },
 "nbformat": 4,
 "nbformat_minor": 2
}
