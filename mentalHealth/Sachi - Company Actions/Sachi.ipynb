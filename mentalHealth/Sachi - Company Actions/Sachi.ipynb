{
 "cells": [
  {
   "cell_type": "markdown",
   "metadata": {},
   "source": [
    "# Imports "
   ]
  },
  {
   "cell_type": "code",
   "execution_count": 11,
   "metadata": {},
   "outputs": [],
   "source": [
    "import pandas as pd\n",
    "import numpy as np\n",
    "import matplotlib.pyplot as plt"
   ]
  },
  {
   "cell_type": "code",
   "execution_count": 12,
   "metadata": {},
   "outputs": [],
   "source": [
    "# change path name here\n",
    "\n",
    "data = pd.read_csv(\"/Users/sachilad/Documents/UCL/Year 3/Term 2 Modules/COMP0031/MentalHealthInTech/comp0031/mentalHealth/Data/combined2.csv\")"
   ]
  },
  {
   "cell_type": "code",
   "execution_count": 13,
   "metadata": {},
   "outputs": [],
   "source": [
    "# exploring the dataset\n",
    "\n",
    "unique_questions = data['questiontext'].unique()\n",
    "# for n in range(len(unique_questions)):\n",
    "#     print(n, \": \", unique_questions[n])\n",
    "\n",
    "# see dataset_notes.txt for notes on questions"
   ]
  },
  {
   "cell_type": "markdown",
   "metadata": {},
   "source": [
    "# Data Visualisation"
   ]
  },
  {
   "cell_type": "code",
   "execution_count": 25,
   "metadata": {},
   "outputs": [
    {
     "name": "stdout",
     "output_type": "stream",
     "text": [
      "['1' '0' '-1']\n"
     ]
    }
   ],
   "source": [
    "# Graph for Overview of Company's Actions\n",
    "\n",
    "# data frame for 9 :  Does your employer provide mental health benefits as part of healthcare coverage?\n",
    "\n",
    "actions_q9 = data[data['QuestionID'] == 9]\n",
    "\n",
    "x_values_q9_ = actions_q9['AnswerText']\n",
    "x_values_q9 = x_values_q9_[~x_values_q9_.isin([-1])]\n",
    "# x_values_q9 = [n for n in x_values_q9 if n != -1]\n",
    "print(x_values_q9.unique())\n",
    "y_values_q9 = actions_q9['AnswerText']\n",
    "\n"
   ]
  }
 ],
 "metadata": {
  "kernelspec": {
   "display_name": "base",
   "language": "python",
   "name": "python3"
  },
  "language_info": {
   "codemirror_mode": {
    "name": "ipython",
    "version": 3
   },
   "file_extension": ".py",
   "mimetype": "text/x-python",
   "name": "python",
   "nbconvert_exporter": "python",
   "pygments_lexer": "ipython3",
   "version": "3.11.5"
  }
 },
 "nbformat": 4,
 "nbformat_minor": 2
}
